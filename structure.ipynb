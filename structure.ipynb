{
 "cells": [
  {
   "cell_type": "code",
   "execution_count": 1,
   "metadata": {
    "collapsed": true
   },
   "outputs": [],
   "source": [
    "import pandas as pd\n",
    "import numpy as np\n",
    "import pymatgen as mg\n",
    "import json\n",
    "import matplotlib.pyplot as plt\n",
    "import seaborn as sns\n",
    "import joblib\n",
    "from pymatgen.analysis.local_env import JMolNN\n",
    "%matplotlib inline"
   ]
  },
  {
   "cell_type": "code",
   "execution_count": 2,
   "metadata": {
    "collapsed": false
   },
   "outputs": [],
   "source": [
    "def load(index, kind='train'):\n",
    "    with open('data/{}/{}/geometry.json'.format(kind, index)) as f:\n",
    "        d = json.load(f)\n",
    "        structure = mg.core.Structure.from_dict(d)\n",
    "    return structure"
   ]
  },
  {
   "cell_type": "code",
   "execution_count": 3,
   "metadata": {
    "collapsed": false,
    "scrolled": true
   },
   "outputs": [
    {
     "data": {
      "text/plain": [
       "Structure Summary\n",
       "Lattice\n",
       "    abc : 9.9522999999999993 8.5512999999999995 9.1775000000000002\n",
       " angles : 90.002600000000001 90.002300000000005 90.0017\n",
       " volume : 781.05208091340478\n",
       "      A : 9.9522999919813007 0.0 -0.00039951092713025771\n",
       "      B : -0.00025373775587410888 8.5512999874310154 -0.0003880456847134828\n",
       "      C : 0.0 0.0 9.1775000000000002\n",
       "PeriodicSite: Ga (1.6089, 7.2764, 6.3832) [0.1617, 0.8509, 0.6956]\n",
       "PeriodicSite: Al (6.5849, 7.2528, 6.3658) [0.6617, 0.8482, 0.6937]\n",
       "PeriodicSite: Al (3.4358, 1.2598, 1.7946) [0.3452, 0.1473, 0.1956]\n",
       "PeriodicSite: Ga (8.4118, 1.2362, 1.7773) [0.8452, 0.1446, 0.1937]\n",
       "PeriodicSite: Ga (0.9559, 2.9989, 1.8014) [0.0961, 0.3507, 0.1963]\n",
       "PeriodicSite: Al (5.9319, 2.9753, 1.7840) [0.5960, 0.3479, 0.1944]\n",
       "PeriodicSite: Al (4.0888, 5.5373, 6.3764) [0.4109, 0.6475, 0.6948]\n",
       "PeriodicSite: Al (9.0648, 5.5136, 6.3591) [0.9108, 0.6448, 0.6930]\n",
       "PeriodicSite: Al (0.9172, 5.6224, -0.0094) [0.0922, 0.6575, -0.0010]\n",
       "PeriodicSite: Ga (5.8933, 5.5988, -0.0267) [0.5922, 0.6547, -0.0029]\n",
       "PeriodicSite: Ga (4.1149, 2.9099, 4.5712) [0.4135, 0.3403, 0.4981]\n",
       "PeriodicSite: Al (9.0910, 2.8863, 4.5539) [0.9135, 0.3375, 0.4963]\n",
       "PeriodicSite: Al (1.6195, 1.3483, 4.5817) [0.1627, 0.1577, 0.4992]\n",
       "PeriodicSite: Ga (6.5955, 1.3247, 4.5643) [0.6627, 0.1549, 0.4974]\n",
       "PeriodicSite: Al (3.4443, 7.1937, 9.1576) [0.3461, 0.8412, 0.9979]\n",
       "PeriodicSite: Ga (8.4204, 7.1701, 9.1403) [0.8461, 0.8385, 0.9960]\n",
       "PeriodicSite: Ga (0.8688, 0.2622, 9.1651) [0.0873, 0.0307, 0.9987]\n",
       "PeriodicSite: Al (5.8448, 0.2386, 9.1477) [0.5873, 0.0279, 0.9968]\n",
       "PeriodicSite: Ga (4.1950, 8.2798, 4.5559) [0.4215, 0.9683, 0.4965]\n",
       "PeriodicSite: Al (9.1710, 8.2562, 4.5385) [0.9215, 0.9655, 0.4946]\n",
       "PeriodicSite: Ga (1.6892, 4.5291, 4.5687) [0.1697, 0.5296, 0.4978]\n",
       "PeriodicSite: Al (6.6652, 4.5055, 4.5514) [0.6697, 0.5269, 0.4960]\n",
       "PeriodicSite: Al (3.3746, 4.0129, 9.1522) [0.3391, 0.4693, 0.9973]\n",
       "PeriodicSite: Al (8.3506, 3.9893, 9.1349) [0.8391, 0.4665, 0.9954]\n",
       "PeriodicSite: Ga (3.4398, 1.3340, 7.2093) [0.3456, 0.1560, 0.7856]\n",
       "PeriodicSite: Al (8.4159, 1.3103, 7.1919) [0.8456, 0.1532, 0.7837]\n",
       "PeriodicSite: Al (1.6105, 7.2040, 2.6204) [0.1618, 0.8424, 0.2856]\n",
       "PeriodicSite: Al (6.5866, 7.1803, 2.6031) [0.6618, 0.8397, 0.2837]\n",
       "PeriodicSite: Al (4.0910, 5.6016, 2.6135) [0.4111, 0.6551, 0.2848]\n",
       "PeriodicSite: Ga (9.0671, 5.5780, 2.5962) [0.9111, 0.6523, 0.2830]\n",
       "PeriodicSite: Al (0.9593, 2.9363, 7.2162) [0.0964, 0.3434, 0.7863]\n",
       "PeriodicSite: Al (5.9353, 2.9127, 7.1988) [0.5964, 0.3406, 0.7844]\n",
       "PeriodicSite: O (4.1804, 5.7098, 8.1747) [0.4201, 0.6677, 0.8908]\n",
       "PeriodicSite: O (9.1564, 5.6862, 8.1574) [0.9200, 0.6649, 0.8889]\n",
       "PeriodicSite: O (0.8767, 2.8302, 3.6006) [0.0881, 0.3310, 0.3923]\n",
       "PeriodicSite: O (5.8527, 2.8066, 3.5833) [0.5881, 0.3282, 0.3905]\n",
       "PeriodicSite: O (3.3582, 1.4331, 3.5935) [0.3374, 0.1676, 0.3916]\n",
       "PeriodicSite: O (8.3342, 1.4095, 3.5762) [0.8374, 0.1648, 0.3897]\n",
       "PeriodicSite: O (1.6989, 7.1069, 8.1818) [0.1707, 0.8311, 0.8916]\n",
       "PeriodicSite: O (6.6749, 7.0833, 8.1645) [0.6707, 0.8283, 0.8897]\n",
       "PeriodicSite: O (2.6327, 0.0706, 5.7634) [0.2645, 0.0083, 0.6280]\n",
       "PeriodicSite: O (7.6087, 0.0470, 5.7461) [0.7645, 0.0055, 0.6261]\n",
       "PeriodicSite: O (2.4077, 8.4642, 1.1662) [0.2419, 0.9898, 0.1271]\n",
       "PeriodicSite: O (7.3837, 8.4406, 1.1489) [0.7419, 0.9871, 0.1253]\n",
       "PeriodicSite: O (4.8762, 4.3308, 1.1621) [0.4900, 0.5064, 0.1267]\n",
       "PeriodicSite: O (9.8523, 4.3071, 1.1448) [0.9900, 0.5037, 0.1248]\n",
       "PeriodicSite: O (0.1641, 4.2041, 5.7675) [0.0165, 0.4916, 0.6285]\n",
       "PeriodicSite: O (5.1401, 4.1805, 5.7502) [0.5165, 0.4889, 0.6266]\n",
       "PeriodicSite: O (0.1118, 7.0726, 1.1023) [0.0113, 0.8271, 0.1201]\n",
       "PeriodicSite: O (5.0879, 7.0490, 1.0850) [0.5112, 0.8243, 0.1183]\n",
       "PeriodicSite: O (4.9280, 1.4621, 5.6805) [0.4952, 0.1710, 0.6190]\n",
       "PeriodicSite: O (9.9041, 1.4385, 5.6631) [0.9952, 0.1682, 0.6171]\n",
       "PeriodicSite: O (2.4462, 2.7908, 5.6877) [0.2458, 0.3264, 0.6198]\n",
       "PeriodicSite: O (7.4223, 2.7672, 5.6703) [0.7458, 0.3236, 0.6179]\n",
       "PeriodicSite: O (2.5936, 5.7439, 1.0951) [0.2606, 0.6717, 0.1194]\n",
       "PeriodicSite: O (7.5697, 5.7203, 1.0778) [0.7606, 0.6689, 0.1175]\n",
       "PeriodicSite: O (4.8906, 7.1234, 5.8304) [0.4914, 0.8330, 0.6353]\n",
       "PeriodicSite: O (9.8666, 7.0998, 5.8131) [0.9914, 0.8303, 0.6335]\n",
       "PeriodicSite: O (0.1503, 1.4116, 1.2644) [0.0151, 0.1651, 0.1378]\n",
       "PeriodicSite: O (5.1264, 1.3880, 1.2471) [0.5151, 0.1623, 0.1359]\n",
       "PeriodicSite: O (2.6452, 2.8535, 1.2541) [0.2658, 0.3337, 0.1367]\n",
       "PeriodicSite: O (7.6213, 2.8299, 1.2368) [0.7658, 0.3309, 0.1348]\n",
       "PeriodicSite: O (2.3957, 5.6815, 5.8407) [0.2407, 0.6644, 0.6365]\n",
       "PeriodicSite: O (7.3717, 5.6579, 5.8234) [0.7407, 0.6616, 0.6346]\n",
       "PeriodicSite: O (1.8306, 1.4535, 7.9398) [0.1839, 0.1700, 0.8652]\n",
       "PeriodicSite: O (6.8066, 1.4299, 7.9225) [0.6839, 0.1672, 0.8633]\n",
       "PeriodicSite: O (3.2247, 7.0859, 3.3400) [0.3240, 0.8286, 0.3640]\n",
       "PeriodicSite: O (8.2008, 7.0623, 3.3226) [0.8240, 0.8259, 0.3621]\n",
       "PeriodicSite: O (0.7303, 5.7295, 3.3501) [0.0734, 0.6700, 0.3651]\n",
       "PeriodicSite: O (5.7063, 5.7059, 3.3328) [0.5734, 0.6673, 0.3632]\n",
       "PeriodicSite: O (4.3251, 2.8099, 7.9296) [0.4346, 0.3286, 0.8641]\n",
       "PeriodicSite: O (9.3011, 2.7863, 7.9123) [0.9346, 0.3258, 0.8622]\n",
       "PeriodicSite: O (4.1885, -0.0025, 8.2452) [0.4209, -0.0003, 0.8984]\n",
       "PeriodicSite: O (9.1645, -0.0261, 8.2279) [0.9208, -0.0031, 0.8966]\n",
       "PeriodicSite: O (0.8690, 8.5426, 3.6586) [0.0873, 0.9990, 0.3987]\n",
       "PeriodicSite: O (5.8450, 8.5190, 3.6413) [0.5873, 0.9962, 0.3968]\n",
       "PeriodicSite: O (3.3369, 4.2723, 3.6547) [0.3353, 0.4996, 0.3983]\n",
       "PeriodicSite: O (8.3130, 4.2487, 3.6374) [0.8353, 0.4968, 0.3964]\n",
       "PeriodicSite: O (1.7205, 4.2678, 8.2491) [0.1729, 0.4991, 0.8989]\n",
       "PeriodicSite: O (6.6966, 4.2442, 8.2318) [0.6729, 0.4963, 0.8970]"
      ]
     },
     "execution_count": 3,
     "metadata": {},
     "output_type": "execute_result"
    }
   ],
   "source": [
    "structure = load(1); structure"
   ]
  },
  {
   "cell_type": "code",
   "execution_count": 4,
   "metadata": {
    "collapsed": true
   },
   "outputs": [],
   "source": [
    "df_train = pd.read_csv('data/train.csv')"
   ]
  },
  {
   "cell_type": "code",
   "execution_count": 5,
   "metadata": {
    "collapsed": false,
    "scrolled": false
   },
   "outputs": [
    {
     "data": {
      "text/plain": [
       "id                             1.0000\n",
       "spacegroup                    33.0000\n",
       "number_of_total_atoms         80.0000\n",
       "percent_atom_al                0.6250\n",
       "percent_atom_ga                0.3750\n",
       "percent_atom_in                0.0000\n",
       "lattice_vector_1_ang           9.9523\n",
       "lattice_vector_2_ang           8.5513\n",
       "lattice_vector_3_ang           9.1775\n",
       "lattice_angle_alpha_degree    90.0026\n",
       "lattice_angle_beta_degree     90.0023\n",
       "lattice_angle_gamma_degree    90.0017\n",
       "formation_energy_ev_natom      0.0680\n",
       "bandgap_energy_ev              3.4387\n",
       "Name: 0, dtype: float64"
      ]
     },
     "execution_count": 5,
     "metadata": {},
     "output_type": "execute_result"
    }
   ],
   "source": [
    "row = df_train.iloc[0, :]; row"
   ]
  },
  {
   "cell_type": "code",
   "execution_count": 6,
   "metadata": {
    "collapsed": false
   },
   "outputs": [
    {
     "data": {
      "text/plain": [
       "{'image': [0, 0, 0],\n",
       " 'site': PeriodicSite: Al (0.9172, 5.6224, 9.1681) [0.0922, 0.6575, 0.9990],\n",
       " 'site_index': 8,\n",
       " 'weight': 1.0529530989043783}"
      ]
     },
     "execution_count": 6,
     "metadata": {},
     "output_type": "execute_result"
    }
   ],
   "source": [
    "nn = JMolNN(tol=1e-8)\n",
    "nn.get_nn_info(structure, 78)[0]"
   ]
  },
  {
   "cell_type": "code",
   "execution_count": 7,
   "metadata": {
    "collapsed": true
   },
   "outputs": [],
   "source": [
    "def get_cation_polyhedron(structure, anion_sym='O'):\n",
    "    nn = JMolNN()\n",
    "    coo = [[e['site_index'] for e in nn.get_nn_info(structure, i) if e['site'].specie.name != 'O']\n",
    "           for i, spc in enumerate(structure.species) if spc.name == anion_sym]\n",
    "    return coo"
   ]
  },
  {
   "cell_type": "code",
   "execution_count": 8,
   "metadata": {
    "collapsed": true
   },
   "outputs": [],
   "source": [
    "def get_anion_polyhedron(structure, cation_sym):\n",
    "    nn = JMolNN()\n",
    "    coo = [[e['site_index'] for e in nn.get_nn_info(structure, i) if e['site'].specie.name == 'O']\n",
    "           for i, spc in enumerate(structure.species) if spc.name == cation_sym]\n",
    "    return coo"
   ]
  },
  {
   "cell_type": "code",
   "execution_count": 9,
   "metadata": {
    "collapsed": false,
    "scrolled": true
   },
   "outputs": [
    {
     "data": {
      "text/plain": [
       "[[39, 41, 56, 63],\n",
       " [36, 42, 59, 60],\n",
       " [35, 44, 59, 61],\n",
       " [32, 47, 56, 62],\n",
       " [33, 46, 57, 63],\n",
       " [33, 38, 45, 48, 54, 78],\n",
       " [34, 37, 46, 51, 53, 77],\n",
       " [34, 36, 40, 51, 52, 74],\n",
       " [32, 38, 42, 49, 54, 72],\n",
       " [39, 43, 49, 59, 65, 72],\n",
       " [37, 41, 51, 57, 67, 74],\n",
       " [35, 47, 53, 63, 69, 77],\n",
       " [32, 44, 54, 60, 70, 78],\n",
       " [33, 45, 55, 61, 71, 79],\n",
       " [41, 51, 53, 65, 71, 73],\n",
       " [42, 48, 54, 66, 68, 74],\n",
       " [43, 49, 55, 67, 69, 75],\n",
       " [44, 49, 54, 66, 69, 76],\n",
       " [46, 51, 52, 64, 71, 78],\n",
       " [47, 50, 53, 65, 70, 79]]"
      ]
     },
     "execution_count": 9,
     "metadata": {},
     "output_type": "execute_result"
    }
   ],
   "source": [
    "get_anion_polyhedron(structure, 'Al')"
   ]
  },
  {
   "cell_type": "code",
   "execution_count": 10,
   "metadata": {
    "collapsed": false,
    "scrolled": true
   },
   "outputs": [
    {
     "data": {
      "text/plain": [
       "[[6, 9, 14, 22],\n",
       " [7, 8, 15, 23],\n",
       " [4, 11, 12, 20],\n",
       " [5, 10, 13, 21],\n",
       " [2, 10, 12, 18],\n",
       " [3, 11, 13, 19],\n",
       " [0, 8, 14, 16],\n",
       " [1, 9, 15, 17],\n",
       " [0, 12, 18, 24],\n",
       " [1, 13, 19, 25],\n",
       " [2, 14, 16, 26],\n",
       " [3, 15, 17, 27],\n",
       " [5, 9, 22, 28],\n",
       " [4, 8, 23, 29],\n",
       " [7, 11, 20, 30],\n",
       " [6, 10, 21, 31],\n",
       " [8, 15, 16, 26, 29],\n",
       " [9, 14, 17, 27, 28],\n",
       " [10, 13, 18, 24, 31],\n",
       " [11, 12, 19, 25, 30],\n",
       " [10, 12, 20, 24, 30],\n",
       " [11, 13, 21, 25, 31],\n",
       " [8, 14, 22, 26, 28],\n",
       " [9, 15, 23, 27, 29],\n",
       " [1, 6, 18],\n",
       " [0, 7, 19],\n",
       " [3, 4, 16],\n",
       " [2, 5, 17],\n",
       " [2, 4, 22],\n",
       " [3, 5, 23],\n",
       " [0, 6, 20],\n",
       " [1, 7, 21],\n",
       " [16, 24, 30],\n",
       " [17, 25, 31],\n",
       " [18, 26, 28],\n",
       " [19, 27, 29],\n",
       " [20, 26, 29],\n",
       " [21, 27, 28],\n",
       " [22, 24, 31],\n",
       " [23, 25, 30],\n",
       " [14, 17, 24],\n",
       " [15, 16, 25],\n",
       " [12, 19, 26],\n",
       " [13, 18, 27],\n",
       " [10, 20, 28],\n",
       " [11, 21, 29],\n",
       " [8, 22, 30],\n",
       " [9, 23, 31]]"
      ]
     },
     "execution_count": 10,
     "metadata": {},
     "output_type": "execute_result"
    }
   ],
   "source": [
    "get_cation_polyhedron(structure, 'O')"
   ]
  },
  {
   "cell_type": "code",
   "execution_count": 11,
   "metadata": {
    "collapsed": true
   },
   "outputs": [],
   "source": [
    "def get_bag_of_bonds(structure):\n",
    "    list_cation_polyhedron = get_cation_polyhedron(structure, 'O')\n",
    "    bag_of_bonds = {'Al': 0, 'Ga': 0, 'In': 0}\n",
    "    for cation_polyhedron in list_cation_polyhedron:\n",
    "        for idx in cation_polyhedron:\n",
    "            bag_of_bonds[structure[idx].specie.name] += 1\n",
    "    return bag_of_bonds"
   ]
  },
  {
   "cell_type": "code",
   "execution_count": 12,
   "metadata": {
    "collapsed": true
   },
   "outputs": [],
   "source": [
    "def calc_bag_of_bonds_descriptor(structure):\n",
    "    bob = get_bag_of_bonds(structure)\n",
    "    dsc = np.array([bob['Al'], bob['Ga'], bob['In']], dtype=float)\n",
    "    dsc /= np.sum(dsc)\n",
    "    return dsc"
   ]
  },
  {
   "cell_type": "code",
   "execution_count": 13,
   "metadata": {
    "collapsed": false
   },
   "outputs": [
    {
     "data": {
      "text/plain": [
       "{'Al': 110, 'Ga': 66, 'In': 0}"
      ]
     },
     "execution_count": 13,
     "metadata": {},
     "output_type": "execute_result"
    }
   ],
   "source": [
    "get_bag_of_bonds(structure)"
   ]
  },
  {
   "cell_type": "code",
   "execution_count": 14,
   "metadata": {
    "collapsed": false
   },
   "outputs": [
    {
     "data": {
      "text/plain": [
       "{'Al': 72, 'Ga': 14, 'In': 0}"
      ]
     },
     "execution_count": 14,
     "metadata": {},
     "output_type": "execute_result"
    }
   ],
   "source": [
    "get_bag_of_bonds(load(3, 'train'))"
   ]
  },
  {
   "cell_type": "code",
   "execution_count": 15,
   "metadata": {
    "collapsed": false
   },
   "outputs": [
    {
     "data": {
      "text/plain": [
       "array([ 0.625,  0.375,  0.   ])"
      ]
     },
     "execution_count": 15,
     "metadata": {},
     "output_type": "execute_result"
    }
   ],
   "source": [
    "calc_bag_of_bonds_descriptor(structure)"
   ]
  },
  {
   "cell_type": "code",
   "execution_count": 16,
   "metadata": {
    "collapsed": false
   },
   "outputs": [],
   "source": [
    "def oxygen_second_nearest_neighbors(structure):\n",
    "    list_cation_polyhedron = get_cation_polyhedron(structure)\n",
    "    list_oxygen = [i for i, specie in enumerate(structure.species) if specie.name == 'O']\n",
    "    \n",
    "    nn = JMolNN()\n",
    "    \n",
    "    size = 20\n",
    "    ret = np.zeros(size)\n",
    "    for i, oxygen in enumerate(list_oxygen):\n",
    "        oxy_tmp = []\n",
    "        for cation in list_cation_polyhedron[i]:\n",
    "            oxy_tmp.extend([e['site_index'] for e in nn.get_nn_info(structure, cation) if e['site'].specie.name == 'O'])\n",
    "            \n",
    "        ret[len(set(oxy_tmp))] += 1\n",
    "        \n",
    "    ret /= np.sum(ret)\n",
    "    \n",
    "    return ret"
   ]
  },
  {
   "cell_type": "code",
   "execution_count": 17,
   "metadata": {
    "collapsed": true
   },
   "outputs": [],
   "source": [
    "from pymatgen.analysis.local_env import LocalStructOrderParas"
   ]
  },
  {
   "cell_type": "code",
   "execution_count": 18,
   "metadata": {
    "collapsed": false
   },
   "outputs": [],
   "source": [
    "local = LocalStructOrderParas(types=['q2'], cutoff=7)"
   ]
  },
  {
   "cell_type": "code",
   "execution_count": 19,
   "metadata": {
    "collapsed": false
   },
   "outputs": [
    {
     "data": {
      "text/plain": [
       "[0.02406878938501948]"
      ]
     },
     "execution_count": 19,
     "metadata": {},
     "output_type": "execute_result"
    }
   ],
   "source": [
    "local.get_order_parameters(structure, 0)"
   ]
  },
  {
   "cell_type": "code",
   "execution_count": 20,
   "metadata": {
    "collapsed": false
   },
   "outputs": [
    {
     "data": {
      "text/plain": [
       "[0.011836809936425446]"
      ]
     },
     "execution_count": 20,
     "metadata": {},
     "output_type": "execute_result"
    }
   ],
   "source": [
    "LocalStructOrderParas(types=['q2'], cutoff=8).get_order_parameters(structure, 0)"
   ]
  },
  {
   "cell_type": "code",
   "execution_count": 21,
   "metadata": {
    "collapsed": false
   },
   "outputs": [
    {
     "data": {
      "text/plain": [
       "[0.0032264099491002966]"
      ]
     },
     "execution_count": 21,
     "metadata": {},
     "output_type": "execute_result"
    }
   ],
   "source": [
    "LocalStructOrderParas(types=['q2'], cutoff=17).get_order_parameters(structure, 0)"
   ]
  },
  {
   "cell_type": "code",
   "execution_count": 22,
   "metadata": {
    "collapsed": true
   },
   "outputs": [],
   "source": [
    "types_all = [\"cn\", \"sgl_bd\", \"bent\", \"tri_plan\", \"reg_tri\", \"sq_plan\", \"pent_plan\", \"sq\", \"tet\", \"tri_pyr\", \"sq_pyr\", \"tri_bipyr\", \"sq_bipyr\", \"oct\", \"pent_pyr\", \"hex_pyr\", \"pent_bipyr\", \"hex_bipyr\", \"T\", \"cuboct\", \"see_saw\", \"bcc\", \"q2\", \"q4\", \"q6\"]"
   ]
  },
  {
   "cell_type": "code",
   "execution_count": 23,
   "metadata": {
    "collapsed": false
   },
   "outputs": [
    {
     "data": {
      "text/plain": [
       "[49.0,\n",
       " 0.0023611127713260016,\n",
       " 0.021375883397438532,\n",
       " 0.029222294529181757,\n",
       " 0.0,\n",
       " 0.11202367452481013,\n",
       " 0.057366861594120785,\n",
       " 1.8339689147417815e-16,\n",
       " 0.02955127316356771,\n",
       " 0.036180347370904906,\n",
       " 0.035815042723575,\n",
       " 0.12107545671910909,\n",
       " 0.1220167977717991,\n",
       " 0.11308629110111253,\n",
       " 0.035949427418004096,\n",
       " 0.035762719261659366,\n",
       " 0.12124939250310687,\n",
       " 0.12286613862025911,\n",
       " 0.03621608539713794,\n",
       " 0.45501427935361755,\n",
       " 0.04152557574369759,\n",
       " -0.005714418135774831,\n",
       " 0.02453689040037558,\n",
       " 0.06977404295678188,\n",
       " 0.06595250259555697]"
      ]
     },
     "execution_count": 23,
     "metadata": {},
     "output_type": "execute_result"
    }
   ],
   "source": [
    "LocalStructOrderParas(types=types_all, cutoff=5).get_order_parameters(structure, 0)"
   ]
  },
  {
   "cell_type": "code",
   "execution_count": 46,
   "metadata": {
    "collapsed": true
   },
   "outputs": [],
   "source": [
    "def _calc_each_order_parameters_descriptor(structure, ele_sym, list_types, cutoff=10):\n",
    "    local = LocalStructOrderParas(types=list_types, cutoff=cutoff)\n",
    "    \n",
    "    struct = structure.copy()\n",
    "    list_elements = ['Al', 'Ga', 'In', 'O']\n",
    "    list_elements.remove(ele_sym)\n",
    "    struct.remove_species(list_elements)\n",
    "    \n",
    "    if struct.num_sites == 0:\n",
    "        dsc = np.zeros(len(list_types))\n",
    "    else:\n",
    "        mat_order_params = np.array([local.get_order_parameters(struct, i) for i in range(struct.num_sites)])\n",
    "        dsc = np.mean(mat_order_params, axis=0)\n",
    "        \n",
    "    return dsc\n",
    "\n",
    "def calc_each_order_parameters_descriptor(structure, cutoff=10.):\n",
    "    list_elements = ['Al', 'Ga', 'In', 'O']\n",
    "    list_types = ['q2', 'q4', 'q6']\n",
    "    dsc = np.concatenate([_calc_each_order_parameters_descriptor(structure, ele_sym, list_types, cutoff) for ele_sym in list_elements])\n",
    "    return dsc"
   ]
  },
  {
   "cell_type": "code",
   "execution_count": 47,
   "metadata": {
    "collapsed": false
   },
   "outputs": [
    {
     "data": {
      "text/plain": [
       "array([ 0.03854344,  0.04550723,  0.07676833,  0.05630007,  0.07218905,\n",
       "        0.11299283,  0.        ,  0.        ,  0.        ,  0.01050804,\n",
       "        0.00621153,  0.01233626])"
      ]
     },
     "execution_count": 47,
     "metadata": {},
     "output_type": "execute_result"
    }
   ],
   "source": [
    "calc_each_order_parameters_descriptor(structure)"
   ]
  },
  {
   "cell_type": "code",
   "execution_count": 44,
   "metadata": {
    "collapsed": false
   },
   "outputs": [
    {
     "data": {
      "text/plain": [
       "array([ 0.04634309,  0.08500054,  0.11051122,  0.0769481 ,  0.12499449,\n",
       "        0.18496661,  0.        ,  0.        ,  0.        ,  0.01286995,\n",
       "        0.02630254,  0.0285526 ])"
      ]
     },
     "execution_count": 44,
     "metadata": {},
     "output_type": "execute_result"
    }
   ],
   "source": [
    "calc_each_order_parameters_descriptor(structure, 8.0)"
   ]
  },
  {
   "cell_type": "code",
   "execution_count": 45,
   "metadata": {
    "collapsed": false
   },
   "outputs": [
    {
     "data": {
      "text/plain": [
       "['Al_q2', 'Al_q4', 'Ga_q2', 'Ga_q4']"
      ]
     },
     "execution_count": 45,
     "metadata": {},
     "output_type": "execute_result"
    }
   ],
   "source": [
    "['{}_{}'.format(ele_sym, types) for ele_sym in ['Al', 'Ga'] for types in ['q2', 'q4']]"
   ]
  },
  {
   "cell_type": "code",
   "execution_count": null,
   "metadata": {
    "collapsed": true
   },
   "outputs": [],
   "source": []
  }
 ],
 "metadata": {
  "kernelspec": {
   "display_name": "Python 3",
   "language": "python",
   "name": "python3"
  },
  "language_info": {
   "codemirror_mode": {
    "name": "ipython",
    "version": 3
   },
   "file_extension": ".py",
   "mimetype": "text/x-python",
   "name": "python",
   "nbconvert_exporter": "python",
   "pygments_lexer": "ipython3",
   "version": "3.6.0"
  }
 },
 "nbformat": 4,
 "nbformat_minor": 2
}
